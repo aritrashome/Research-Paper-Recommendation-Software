{
 "cells": [
  {
   "cell_type": "code",
   "execution_count": 30,
   "metadata": {},
   "outputs": [],
   "source": [
    "import numpy as np\n",
    "import pandas as pd\n",
    "import matplotlib.pyplot as plt\n",
    "from keras.models import Sequential\n",
    "from keras.layers import Dense\n",
    "from keras.layers import LSTM\n",
    "from sklearn.preprocessing import LabelEncoder\n",
    "from sklearn.metrics import recall_score"
   ]
  },
  {
   "cell_type": "code",
   "execution_count": 2,
   "metadata": {},
   "outputs": [
    {
     "data": {
      "text/html": [
       "<div>\n",
       "<style scoped>\n",
       "    .dataframe tbody tr th:only-of-type {\n",
       "        vertical-align: middle;\n",
       "    }\n",
       "\n",
       "    .dataframe tbody tr th {\n",
       "        vertical-align: top;\n",
       "    }\n",
       "\n",
       "    .dataframe thead th {\n",
       "        text-align: right;\n",
       "    }\n",
       "</style>\n",
       "<table border=\"1\" class=\"dataframe\">\n",
       "  <thead>\n",
       "    <tr style=\"text-align: right;\">\n",
       "      <th></th>\n",
       "      <th>KDM</th>\n",
       "      <th>Sca</th>\n",
       "      <th>CAOT</th>\n",
       "      <th>SQM</th>\n",
       "      <th>Time Difference</th>\n",
       "      <th>liked</th>\n",
       "      <th>1</th>\n",
       "      <th>2</th>\n",
       "      <th>3</th>\n",
       "      <th>4</th>\n",
       "      <th>5</th>\n",
       "    </tr>\n",
       "  </thead>\n",
       "  <tbody>\n",
       "    <tr>\n",
       "      <th>0</th>\n",
       "      <td>1.000000</td>\n",
       "      <td>457.130088</td>\n",
       "      <td>0.733764</td>\n",
       "      <td>3.00</td>\n",
       "      <td>1</td>\n",
       "      <td>0</td>\n",
       "      <td>0</td>\n",
       "      <td>0</td>\n",
       "      <td>0</td>\n",
       "      <td>0</td>\n",
       "      <td>1</td>\n",
       "    </tr>\n",
       "    <tr>\n",
       "      <th>1</th>\n",
       "      <td>1.000000</td>\n",
       "      <td>721.469207</td>\n",
       "      <td>-1000.000000</td>\n",
       "      <td>0.00</td>\n",
       "      <td>2</td>\n",
       "      <td>0</td>\n",
       "      <td>0</td>\n",
       "      <td>0</td>\n",
       "      <td>0</td>\n",
       "      <td>0</td>\n",
       "      <td>1</td>\n",
       "    </tr>\n",
       "    <tr>\n",
       "      <th>2</th>\n",
       "      <td>0.251064</td>\n",
       "      <td>464.351038</td>\n",
       "      <td>20.000000</td>\n",
       "      <td>0.00</td>\n",
       "      <td>3</td>\n",
       "      <td>0</td>\n",
       "      <td>0</td>\n",
       "      <td>0</td>\n",
       "      <td>1</td>\n",
       "      <td>0</td>\n",
       "      <td>0</td>\n",
       "    </tr>\n",
       "    <tr>\n",
       "      <th>3</th>\n",
       "      <td>0.182624</td>\n",
       "      <td>444.919168</td>\n",
       "      <td>-1000.000000</td>\n",
       "      <td>0.00</td>\n",
       "      <td>2</td>\n",
       "      <td>0</td>\n",
       "      <td>0</td>\n",
       "      <td>0</td>\n",
       "      <td>0</td>\n",
       "      <td>0</td>\n",
       "      <td>1</td>\n",
       "    </tr>\n",
       "    <tr>\n",
       "      <th>4</th>\n",
       "      <td>0.597382</td>\n",
       "      <td>420.435394</td>\n",
       "      <td>-1000.000000</td>\n",
       "      <td>0.76</td>\n",
       "      <td>15</td>\n",
       "      <td>1</td>\n",
       "      <td>0</td>\n",
       "      <td>0</td>\n",
       "      <td>0</td>\n",
       "      <td>0</td>\n",
       "      <td>1</td>\n",
       "    </tr>\n",
       "  </tbody>\n",
       "</table>\n",
       "</div>"
      ],
      "text/plain": [
       "        KDM         Sca         CAOT   SQM  Time Difference  liked  1  2  3  \\\n",
       "0  1.000000  457.130088     0.733764  3.00                1      0  0  0  0   \n",
       "1  1.000000  721.469207 -1000.000000  0.00                2      0  0  0  0   \n",
       "2  0.251064  464.351038    20.000000  0.00                3      0  0  0  1   \n",
       "3  0.182624  444.919168 -1000.000000  0.00                2      0  0  0  0   \n",
       "4  0.597382  420.435394 -1000.000000  0.76               15      1  0  0  0   \n",
       "\n",
       "   4  5  \n",
       "0  0  1  \n",
       "1  0  1  \n",
       "2  0  0  \n",
       "3  0  1  \n",
       "4  0  1  "
      ]
     },
     "execution_count": 2,
     "metadata": {},
     "output_type": "execute_result"
    }
   ],
   "source": [
    "###############################For User 1 ###############################\n",
    "df = pd.read_csv('user1.csv')\n",
    "X = df.iloc[:,2:]\n",
    "encoder = pd.get_dummies(X.iloc[:,0])\n",
    "X = pd.concat([X,encoder],axis=1)\n",
    "X = X.drop(['Topic'],axis=1) #,'KDM','Sca','CAOT','SQM','Time Difference','Session Num'\n",
    "X.head()"
   ]
  },
  {
   "cell_type": "code",
   "execution_count": 3,
   "metadata": {},
   "outputs": [],
   "source": [
    "X_in = []\n",
    "window = 10\n",
    "num_topic = 5\n",
    "for i in range(len(X)-window):\n",
    "    X_in.append(X.values[i:i+window,:])\n",
    "Y_in = []\n",
    "for i in range(window,len(X)):\n",
    "    Y_in.append(X.values[i,-5:])\n",
    "\n",
    "Y_in = np.array(Y_in)\n",
    "X_in = np.array(X_in)\n",
    "\n",
    "from sklearn.model_selection import train_test_split\n",
    "X_train, X_test, Y_train, Y_test = train_test_split(X_in, Y_in, test_size=0.25, random_state=42)"
   ]
  },
  {
   "cell_type": "code",
   "execution_count": 4,
   "metadata": {},
   "outputs": [
    {
     "name": "stdout",
     "output_type": "stream",
     "text": [
      "(21, 10, 11)\n",
      "(21, 5)\n"
     ]
    }
   ],
   "source": [
    "print(X_train.shape)\n",
    "print(Y_train.shape)"
   ]
  },
  {
   "cell_type": "code",
   "execution_count": 5,
   "metadata": {},
   "outputs": [
    {
     "name": "stdout",
     "output_type": "stream",
     "text": [
      "Model: \"sequential_1\"\n",
      "_________________________________________________________________\n",
      "Layer (type)                 Output Shape              Param #   \n",
      "=================================================================\n",
      "lstm_1 (LSTM)                (None, 10, 50)            12400     \n",
      "_________________________________________________________________\n",
      "lstm_2 (LSTM)                (None, 10)                2440      \n",
      "_________________________________________________________________\n",
      "dense_1 (Dense)              (None, 5)                 55        \n",
      "=================================================================\n",
      "Total params: 14,895\n",
      "Trainable params: 14,895\n",
      "Non-trainable params: 0\n",
      "_________________________________________________________________\n"
     ]
    }
   ],
   "source": [
    "model1 = Sequential()\n",
    "model1.add(LSTM(50,return_sequences=True, input_shape=(X_in.shape[1], X_in.shape[2])))\n",
    "model1.add(LSTM(10,return_sequences=False))\n",
    "model1.add(Dense(num_topic,activation='softmax'))\n",
    "model1.compile(loss='categorical_crossentropy', optimizer='adam',metrics=['accuracy'])\n",
    "model1.summary()"
   ]
  },
  {
   "cell_type": "code",
   "execution_count": 6,
   "metadata": {},
   "outputs": [
    {
     "name": "stdout",
     "output_type": "stream",
     "text": [
      "Train on 29 samples, validate on 8 samples\n",
      "Epoch 1/20\n",
      "29/29 [==============================] - 2s 72ms/step - loss: 1.8334 - accuracy: 0.2069 - val_loss: 1.8826 - val_accuracy: 0.1250\n",
      "Epoch 2/20\n",
      "29/29 [==============================] - 0s 344us/step - loss: 1.8095 - accuracy: 0.2069 - val_loss: 1.8495 - val_accuracy: 0.1250\n",
      "Epoch 3/20\n",
      "29/29 [==============================] - 0s 343us/step - loss: 1.7890 - accuracy: 0.1724 - val_loss: 1.8179 - val_accuracy: 0.1250\n",
      "Epoch 4/20\n",
      "29/29 [==============================] - 0s 344us/step - loss: 1.7668 - accuracy: 0.1379 - val_loss: 1.7903 - val_accuracy: 0.1250\n",
      "Epoch 5/20\n",
      "29/29 [==============================] - 0s 343us/step - loss: 1.7461 - accuracy: 0.1379 - val_loss: 1.7625 - val_accuracy: 0.1250\n",
      "Epoch 6/20\n",
      "29/29 [==============================] - 0s 344us/step - loss: 1.7259 - accuracy: 0.0690 - val_loss: 1.7348 - val_accuracy: 0.1250\n",
      "Epoch 7/20\n",
      "29/29 [==============================] - 0s 378us/step - loss: 1.7069 - accuracy: 0.0690 - val_loss: 1.7097 - val_accuracy: 0.1250\n",
      "Epoch 8/20\n",
      "29/29 [==============================] - 0s 344us/step - loss: 1.6890 - accuracy: 0.0690 - val_loss: 1.6841 - val_accuracy: 0.1250\n",
      "Epoch 9/20\n",
      "29/29 [==============================] - 0s 310us/step - loss: 1.6702 - accuracy: 0.0690 - val_loss: 1.6596 - val_accuracy: 0.1250\n",
      "Epoch 10/20\n",
      "29/29 [==============================] - 0s 344us/step - loss: 1.6520 - accuracy: 0.0690 - val_loss: 1.6336 - val_accuracy: 0.1250\n",
      "Epoch 11/20\n",
      "29/29 [==============================] - 0s 344us/step - loss: 1.6342 - accuracy: 0.0690 - val_loss: 1.6059 - val_accuracy: 0.1250\n",
      "Epoch 12/20\n",
      "29/29 [==============================] - 0s 316us/step - loss: 1.6157 - accuracy: 0.1034 - val_loss: 1.5765 - val_accuracy: 0.2500\n",
      "Epoch 13/20\n",
      "29/29 [==============================] - 0s 308us/step - loss: 1.5959 - accuracy: 0.2759 - val_loss: 1.5468 - val_accuracy: 0.3750\n",
      "Epoch 14/20\n",
      "29/29 [==============================] - 0s 345us/step - loss: 1.5767 - accuracy: 0.4138 - val_loss: 1.5208 - val_accuracy: 0.5000\n",
      "Epoch 15/20\n",
      "29/29 [==============================] - 0s 275us/step - loss: 1.5597 - accuracy: 0.4828 - val_loss: 1.4997 - val_accuracy: 0.5000\n",
      "Epoch 16/20\n",
      "29/29 [==============================] - 0s 275us/step - loss: 1.5459 - accuracy: 0.4828 - val_loss: 1.4824 - val_accuracy: 0.5000\n",
      "Epoch 17/20\n",
      "29/29 [==============================] - 0s 310us/step - loss: 1.5347 - accuracy: 0.4828 - val_loss: 1.4693 - val_accuracy: 0.5000\n",
      "Epoch 18/20\n",
      "29/29 [==============================] - 0s 310us/step - loss: 1.5264 - accuracy: 0.4828 - val_loss: 1.4569 - val_accuracy: 0.5000\n",
      "Epoch 19/20\n",
      "29/29 [==============================] - 0s 310us/step - loss: 1.5189 - accuracy: 0.4828 - val_loss: 1.4460 - val_accuracy: 0.5000\n",
      "Epoch 20/20\n",
      "29/29 [==============================] - 0s 310us/step - loss: 1.5121 - accuracy: 0.4828 - val_loss: 1.4360 - val_accuracy: 0.5000\n"
     ]
    },
    {
     "data": {
      "text/plain": [
       "<keras.callbacks.callbacks.History at 0x20dde1b47b8>"
      ]
     },
     "execution_count": 6,
     "metadata": {},
     "output_type": "execute_result"
    }
   ],
   "source": [
    "model1.fit(X_in, Y_in, epochs = 20, shuffle=False,validation_data=(X_test, Y_test))"
   ]
  },
  {
   "cell_type": "code",
   "execution_count": 7,
   "metadata": {},
   "outputs": [
    {
     "name": "stdout",
     "output_type": "stream",
     "text": [
      "###############################\n",
      "The next topic for the \"USER 1\" are in increasing decreasing order of preference  [[5 4 2 1 3]]\n",
      "###############################\n"
     ]
    }
   ],
   "source": [
    "print('###############################')\n",
    "print('The next topic for the \"USER 1\" are in increasing decreasing order of preference ',np.argsort((-model1.predict(X.values[28:28+window,:].reshape(1,window,X_in.shape[2]))))+1)\n",
    "print('###############################')"
   ]
  },
  {
   "cell_type": "code",
   "execution_count": 8,
   "metadata": {},
   "outputs": [
    {
     "data": {
      "text/html": [
       "<div>\n",
       "<style scoped>\n",
       "    .dataframe tbody tr th:only-of-type {\n",
       "        vertical-align: middle;\n",
       "    }\n",
       "\n",
       "    .dataframe tbody tr th {\n",
       "        vertical-align: top;\n",
       "    }\n",
       "\n",
       "    .dataframe thead th {\n",
       "        text-align: right;\n",
       "    }\n",
       "</style>\n",
       "<table border=\"1\" class=\"dataframe\">\n",
       "  <thead>\n",
       "    <tr style=\"text-align: right;\">\n",
       "      <th></th>\n",
       "      <th>KDM</th>\n",
       "      <th>Sca</th>\n",
       "      <th>CAOT</th>\n",
       "      <th>SQM</th>\n",
       "      <th>Time Difference</th>\n",
       "      <th>Session Num</th>\n",
       "      <th>1</th>\n",
       "      <th>2</th>\n",
       "      <th>3</th>\n",
       "      <th>4</th>\n",
       "      <th>5</th>\n",
       "    </tr>\n",
       "  </thead>\n",
       "  <tbody>\n",
       "    <tr>\n",
       "      <th>0</th>\n",
       "      <td>1.000000</td>\n",
       "      <td>457.130088</td>\n",
       "      <td>0.733764</td>\n",
       "      <td>3.00</td>\n",
       "      <td>1</td>\n",
       "      <td>1</td>\n",
       "      <td>1</td>\n",
       "      <td>0</td>\n",
       "      <td>0</td>\n",
       "      <td>0</td>\n",
       "      <td>0</td>\n",
       "    </tr>\n",
       "    <tr>\n",
       "      <th>1</th>\n",
       "      <td>1.000000</td>\n",
       "      <td>721.469207</td>\n",
       "      <td>-1000.000000</td>\n",
       "      <td>0.00</td>\n",
       "      <td>2</td>\n",
       "      <td>2</td>\n",
       "      <td>0</td>\n",
       "      <td>0</td>\n",
       "      <td>1</td>\n",
       "      <td>0</td>\n",
       "      <td>0</td>\n",
       "    </tr>\n",
       "    <tr>\n",
       "      <th>2</th>\n",
       "      <td>0.251064</td>\n",
       "      <td>464.351038</td>\n",
       "      <td>20.000000</td>\n",
       "      <td>0.00</td>\n",
       "      <td>1</td>\n",
       "      <td>3</td>\n",
       "      <td>0</td>\n",
       "      <td>0</td>\n",
       "      <td>0</td>\n",
       "      <td>0</td>\n",
       "      <td>1</td>\n",
       "    </tr>\n",
       "    <tr>\n",
       "      <th>3</th>\n",
       "      <td>0.182624</td>\n",
       "      <td>444.919168</td>\n",
       "      <td>-1000.000000</td>\n",
       "      <td>0.00</td>\n",
       "      <td>1</td>\n",
       "      <td>4</td>\n",
       "      <td>0</td>\n",
       "      <td>0</td>\n",
       "      <td>0</td>\n",
       "      <td>0</td>\n",
       "      <td>1</td>\n",
       "    </tr>\n",
       "    <tr>\n",
       "      <th>4</th>\n",
       "      <td>0.597382</td>\n",
       "      <td>420.435394</td>\n",
       "      <td>-1000.000000</td>\n",
       "      <td>0.76</td>\n",
       "      <td>1</td>\n",
       "      <td>5</td>\n",
       "      <td>0</td>\n",
       "      <td>0</td>\n",
       "      <td>0</td>\n",
       "      <td>0</td>\n",
       "      <td>1</td>\n",
       "    </tr>\n",
       "  </tbody>\n",
       "</table>\n",
       "</div>"
      ],
      "text/plain": [
       "        KDM         Sca         CAOT   SQM  Time Difference  Session Num  1  \\\n",
       "0  1.000000  457.130088     0.733764  3.00                1            1  1   \n",
       "1  1.000000  721.469207 -1000.000000  0.00                2            2  0   \n",
       "2  0.251064  464.351038    20.000000  0.00                1            3  0   \n",
       "3  0.182624  444.919168 -1000.000000  0.00                1            4  0   \n",
       "4  0.597382  420.435394 -1000.000000  0.76                1            5  0   \n",
       "\n",
       "   2  3  4  5  \n",
       "0  0  0  0  0  \n",
       "1  0  1  0  0  \n",
       "2  0  0  0  1  \n",
       "3  0  0  0  1  \n",
       "4  0  0  0  1  "
      ]
     },
     "execution_count": 8,
     "metadata": {},
     "output_type": "execute_result"
    }
   ],
   "source": [
    "################################For User 2 ###############################\n",
    "df2 = pd.read_csv('user2.csv')\n",
    "X2 = df2.iloc[:,2:]\n",
    "encoder2 = pd.get_dummies(X2.iloc[:,0])\n",
    "X2 = pd.concat([X2,encoder2],axis=1)\n",
    "X2 = X2.drop(['Topic'],axis=1) #,'KDM','Sca','CAOT','SQM','Time Difference','Session Num'\n",
    "X2.head()"
   ]
  },
  {
   "cell_type": "code",
   "execution_count": 9,
   "metadata": {},
   "outputs": [
    {
     "name": "stdout",
     "output_type": "stream",
     "text": [
      "X_train2.shape =  (21, 10, 11)\n",
      "Y_train2.shape =  (21, 5)\n"
     ]
    }
   ],
   "source": [
    "X_in2 = []\n",
    "window = 10\n",
    "num_topic = 5\n",
    "for i in range(len(X2)-window):\n",
    "    X_in2.append(X2.values[i:i+window,:])\n",
    "Y_in2 = []\n",
    "for i in range(window,len(X)):\n",
    "    Y_in2.append(X2.values[i,-5:])\n",
    "\n",
    "Y_in2 = np.array(Y_in2)\n",
    "X_in2 = np.array(X_in2)\n",
    "\n",
    "from sklearn.model_selection import train_test_split\n",
    "X_train2, X_test2, Y_train2, Y_test2 = train_test_split(X_in2, Y_in2, test_size=0.25, random_state=42)\n",
    "\n",
    "print('X_train2.shape = ',X_train2.shape)\n",
    "print('Y_train2.shape = ',Y_train2.shape)"
   ]
  },
  {
   "cell_type": "code",
   "execution_count": 10,
   "metadata": {},
   "outputs": [
    {
     "name": "stdout",
     "output_type": "stream",
     "text": [
      "Model: \"sequential_2\"\n",
      "_________________________________________________________________\n",
      "Layer (type)                 Output Shape              Param #   \n",
      "=================================================================\n",
      "lstm_3 (LSTM)                (None, 10, 50)            12400     \n",
      "_________________________________________________________________\n",
      "lstm_4 (LSTM)                (None, 10)                2440      \n",
      "_________________________________________________________________\n",
      "dense_2 (Dense)              (None, 5)                 55        \n",
      "=================================================================\n",
      "Total params: 14,895\n",
      "Trainable params: 14,895\n",
      "Non-trainable params: 0\n",
      "_________________________________________________________________\n"
     ]
    }
   ],
   "source": [
    "model2 = Sequential()\n",
    "model2.add(LSTM(50,return_sequences=True, input_shape=(X_in2.shape[1], X_in2.shape[2])))\n",
    "model2.add(LSTM(10,return_sequences=False))\n",
    "model2.add(Dense(num_topic,activation='softmax'))\n",
    "model2.compile(loss='categorical_crossentropy', optimizer='adam',metrics=['accuracy'])\n",
    "model2.summary()"
   ]
  },
  {
   "cell_type": "code",
   "execution_count": 11,
   "metadata": {},
   "outputs": [
    {
     "name": "stdout",
     "output_type": "stream",
     "text": [
      "Train on 29 samples, validate on 8 samples\n",
      "Epoch 1/20\n",
      "29/29 [==============================] - 0s 15ms/step - loss: 1.5125 - accuracy: 0.4138 - val_loss: 1.4876 - val_accuracy: 0.5000\n",
      "Epoch 2/20\n",
      "29/29 [==============================] - 0s 344us/step - loss: 1.4851 - accuracy: 0.4828 - val_loss: 1.4685 - val_accuracy: 0.5000\n",
      "Epoch 3/20\n",
      "29/29 [==============================] - 0s 309us/step - loss: 1.4605 - accuracy: 0.4828 - val_loss: 1.4506 - val_accuracy: 0.5000\n",
      "Epoch 4/20\n",
      "29/29 [==============================] - 0s 308us/step - loss: 1.4364 - accuracy: 0.4828 - val_loss: 1.4329 - val_accuracy: 0.5000\n",
      "Epoch 5/20\n",
      "29/29 [==============================] - 0s 335us/step - loss: 1.4155 - accuracy: 0.4828 - val_loss: 1.4166 - val_accuracy: 0.5000\n",
      "Epoch 6/20\n",
      "29/29 [==============================] - 0s 344us/step - loss: 1.3975 - accuracy: 0.4828 - val_loss: 1.4048 - val_accuracy: 0.5000\n",
      "Epoch 7/20\n",
      "29/29 [==============================] - 0s 310us/step - loss: 1.3813 - accuracy: 0.4828 - val_loss: 1.3949 - val_accuracy: 0.5000\n",
      "Epoch 8/20\n",
      "29/29 [==============================] - 0s 310us/step - loss: 1.3657 - accuracy: 0.4828 - val_loss: 1.3842 - val_accuracy: 0.5000\n",
      "Epoch 9/20\n",
      "29/29 [==============================] - 0s 310us/step - loss: 1.3506 - accuracy: 0.4828 - val_loss: 1.3737 - val_accuracy: 0.5000\n",
      "Epoch 10/20\n",
      "29/29 [==============================] - 0s 309us/step - loss: 1.3374 - accuracy: 0.4828 - val_loss: 1.3651 - val_accuracy: 0.5000\n",
      "Epoch 11/20\n",
      "29/29 [==============================] - 0s 344us/step - loss: 1.3262 - accuracy: 0.4828 - val_loss: 1.3582 - val_accuracy: 0.5000\n",
      "Epoch 12/20\n",
      "29/29 [==============================] - 0s 310us/step - loss: 1.3144 - accuracy: 0.4828 - val_loss: 1.3519 - val_accuracy: 0.5000\n",
      "Epoch 13/20\n",
      "29/29 [==============================] - 0s 309us/step - loss: 1.3024 - accuracy: 0.4828 - val_loss: 1.3458 - val_accuracy: 0.5000\n",
      "Epoch 14/20\n",
      "29/29 [==============================] - 0s 275us/step - loss: 1.2936 - accuracy: 0.4828 - val_loss: 1.3373 - val_accuracy: 0.5000\n",
      "Epoch 15/20\n",
      "29/29 [==============================] - 0s 309us/step - loss: 1.2855 - accuracy: 0.4828 - val_loss: 1.3249 - val_accuracy: 0.5000\n",
      "Epoch 16/20\n",
      "29/29 [==============================] - 0s 275us/step - loss: 1.2774 - accuracy: 0.4828 - val_loss: 1.3179 - val_accuracy: 0.5000\n",
      "Epoch 17/20\n",
      "29/29 [==============================] - 0s 275us/step - loss: 1.2713 - accuracy: 0.4828 - val_loss: 1.3112 - val_accuracy: 0.5000\n",
      "Epoch 18/20\n",
      "29/29 [==============================] - 0s 275us/step - loss: 1.2655 - accuracy: 0.4828 - val_loss: 1.3047 - val_accuracy: 0.5000\n",
      "Epoch 19/20\n",
      "29/29 [==============================] - 0s 275us/step - loss: 1.2592 - accuracy: 0.4828 - val_loss: 1.2996 - val_accuracy: 0.5000\n",
      "Epoch 20/20\n",
      "29/29 [==============================] - 0s 309us/step - loss: 1.2543 - accuracy: 0.4828 - val_loss: 1.2974 - val_accuracy: 0.5000\n"
     ]
    },
    {
     "data": {
      "text/plain": [
       "<keras.callbacks.callbacks.History at 0x20deac22e10>"
      ]
     },
     "execution_count": 11,
     "metadata": {},
     "output_type": "execute_result"
    }
   ],
   "source": [
    "model2.fit(X_in2, Y_in2, epochs = 20, shuffle=False,validation_data=(X_test2, Y_test2))"
   ]
  },
  {
   "cell_type": "code",
   "execution_count": 12,
   "metadata": {},
   "outputs": [
    {
     "name": "stdout",
     "output_type": "stream",
     "text": [
      "###############################\n",
      "The next topic for the \"USER 2\" are in increasing decreasing order of preference  [[5 3 1 2 4]]\n",
      "###############################\n"
     ]
    }
   ],
   "source": [
    "print('###############################')\n",
    "print('The next topic for the \"USER 2\" are in increasing decreasing order of preference ',np.argsort((-model2.predict(X2.values[28:28+window,:].reshape(1,window,X_in2.shape[2]))))+1)\n",
    "print('###############################')"
   ]
  },
  {
   "cell_type": "code",
   "execution_count": 13,
   "metadata": {},
   "outputs": [
    {
     "data": {
      "text/html": [
       "<div>\n",
       "<style scoped>\n",
       "    .dataframe tbody tr th:only-of-type {\n",
       "        vertical-align: middle;\n",
       "    }\n",
       "\n",
       "    .dataframe tbody tr th {\n",
       "        vertical-align: top;\n",
       "    }\n",
       "\n",
       "    .dataframe thead th {\n",
       "        text-align: right;\n",
       "    }\n",
       "</style>\n",
       "<table border=\"1\" class=\"dataframe\">\n",
       "  <thead>\n",
       "    <tr style=\"text-align: right;\">\n",
       "      <th></th>\n",
       "      <th>KDM</th>\n",
       "      <th>Sca</th>\n",
       "      <th>CAOT</th>\n",
       "      <th>SQM</th>\n",
       "      <th>Time Difference</th>\n",
       "      <th>Session Num</th>\n",
       "      <th>liked</th>\n",
       "      <th>1</th>\n",
       "      <th>2</th>\n",
       "      <th>3</th>\n",
       "      <th>4</th>\n",
       "      <th>5</th>\n",
       "    </tr>\n",
       "  </thead>\n",
       "  <tbody>\n",
       "    <tr>\n",
       "      <th>0</th>\n",
       "      <td>1.000000</td>\n",
       "      <td>457.130088</td>\n",
       "      <td>0.733764</td>\n",
       "      <td>3.00</td>\n",
       "      <td>1</td>\n",
       "      <td>1</td>\n",
       "      <td>0</td>\n",
       "      <td>1</td>\n",
       "      <td>0</td>\n",
       "      <td>0</td>\n",
       "      <td>0</td>\n",
       "      <td>0</td>\n",
       "    </tr>\n",
       "    <tr>\n",
       "      <th>1</th>\n",
       "      <td>1.000000</td>\n",
       "      <td>721.469207</td>\n",
       "      <td>-1000.000000</td>\n",
       "      <td>0.00</td>\n",
       "      <td>2</td>\n",
       "      <td>2</td>\n",
       "      <td>0</td>\n",
       "      <td>0</td>\n",
       "      <td>0</td>\n",
       "      <td>1</td>\n",
       "      <td>0</td>\n",
       "      <td>0</td>\n",
       "    </tr>\n",
       "    <tr>\n",
       "      <th>2</th>\n",
       "      <td>0.251064</td>\n",
       "      <td>464.351038</td>\n",
       "      <td>20.000000</td>\n",
       "      <td>0.00</td>\n",
       "      <td>1</td>\n",
       "      <td>3</td>\n",
       "      <td>0</td>\n",
       "      <td>0</td>\n",
       "      <td>0</td>\n",
       "      <td>0</td>\n",
       "      <td>0</td>\n",
       "      <td>1</td>\n",
       "    </tr>\n",
       "    <tr>\n",
       "      <th>3</th>\n",
       "      <td>0.182624</td>\n",
       "      <td>444.919168</td>\n",
       "      <td>-1000.000000</td>\n",
       "      <td>0.00</td>\n",
       "      <td>1</td>\n",
       "      <td>4</td>\n",
       "      <td>0</td>\n",
       "      <td>0</td>\n",
       "      <td>0</td>\n",
       "      <td>0</td>\n",
       "      <td>0</td>\n",
       "      <td>1</td>\n",
       "    </tr>\n",
       "    <tr>\n",
       "      <th>4</th>\n",
       "      <td>0.597382</td>\n",
       "      <td>420.435394</td>\n",
       "      <td>-1000.000000</td>\n",
       "      <td>0.76</td>\n",
       "      <td>1</td>\n",
       "      <td>5</td>\n",
       "      <td>0</td>\n",
       "      <td>0</td>\n",
       "      <td>0</td>\n",
       "      <td>0</td>\n",
       "      <td>0</td>\n",
       "      <td>1</td>\n",
       "    </tr>\n",
       "  </tbody>\n",
       "</table>\n",
       "</div>"
      ],
      "text/plain": [
       "        KDM         Sca         CAOT   SQM  Time Difference  Session Num  \\\n",
       "0  1.000000  457.130088     0.733764  3.00                1            1   \n",
       "1  1.000000  721.469207 -1000.000000  0.00                2            2   \n",
       "2  0.251064  464.351038    20.000000  0.00                1            3   \n",
       "3  0.182624  444.919168 -1000.000000  0.00                1            4   \n",
       "4  0.597382  420.435394 -1000.000000  0.76                1            5   \n",
       "\n",
       "   liked  1  2  3  4  5  \n",
       "0      0  1  0  0  0  0  \n",
       "1      0  0  0  1  0  0  \n",
       "2      0  0  0  0  0  1  \n",
       "3      0  0  0  0  0  1  \n",
       "4      0  0  0  0  0  1  "
      ]
     },
     "execution_count": 13,
     "metadata": {},
     "output_type": "execute_result"
    }
   ],
   "source": [
    "################################For User 2 ###############################\n",
    "df3 = pd.read_csv('user_combined.csv')\n",
    "X3 = df3.iloc[:,2:]\n",
    "encoder3 = pd.get_dummies(X3.iloc[:,0])\n",
    "X3 = pd.concat([X3,encoder3],axis=1)\n",
    "X3 = X3.drop(['Topic'],axis=1)\n",
    "X3.head()"
   ]
  },
  {
   "cell_type": "code",
   "execution_count": 23,
   "metadata": {},
   "outputs": [
    {
     "name": "stdout",
     "output_type": "stream",
     "text": [
      "X_train2.shape =  (21, 10, 12)\n",
      "Y_train2.shape =  (21, 5)\n"
     ]
    }
   ],
   "source": [
    "X_in3 = []\n",
    "window = 10\n",
    "num_topic = 5\n",
    "for i in range(len(X3)-window):\n",
    "    X_in3.append(X3.values[i:i+window,:])\n",
    "Y_in3 = []\n",
    "for i in range(window,len(X3)):\n",
    "    Y_in3.append(X3.values[i,-5:])\n",
    "\n",
    "Y_in3 = np.array(Y_in3)\n",
    "X_in3 = np.array(X_in3)\n",
    "\n",
    "from sklearn.model_selection import train_test_split\n",
    "X_train3, X_test3, Y_train3, Y_test3 = train_test_split(X_in3, Y_in3, test_size=0.25, random_state=42)\n",
    "\n",
    "print('X_train2.shape = ',X_train3.shape)\n",
    "print('Y_train2.shape = ',Y_train3.shape)"
   ]
  },
  {
   "cell_type": "code",
   "execution_count": 27,
   "metadata": {},
   "outputs": [
    {
     "name": "stdout",
     "output_type": "stream",
     "text": [
      "Model: \"sequential_6\"\n",
      "_________________________________________________________________\n",
      "Layer (type)                 Output Shape              Param #   \n",
      "=================================================================\n",
      "lstm_11 (LSTM)               (None, 10, 50)            12600     \n",
      "_________________________________________________________________\n",
      "lstm_12 (LSTM)               (None, 10)                2440      \n",
      "_________________________________________________________________\n",
      "dense_6 (Dense)              (None, 5)                 55        \n",
      "=================================================================\n",
      "Total params: 15,095\n",
      "Trainable params: 15,095\n",
      "Non-trainable params: 0\n",
      "_________________________________________________________________\n"
     ]
    }
   ],
   "source": [
    "model3 = Sequential()\n",
    "model3.add(LSTM(50,return_sequences=True, input_shape=(X_in3.shape[1], X_in3.shape[2])))\n",
    "model3.add(LSTM(10,return_sequences=False))\n",
    "model3.add(Dense(num_topic,activation='softmax'))\n",
    "model3.compile(loss='categorical_crossentropy', optimizer='adam',metrics=['accuracy'])\n",
    "model3.summary()"
   ]
  },
  {
   "cell_type": "code",
   "execution_count": 28,
   "metadata": {},
   "outputs": [
    {
     "name": "stdout",
     "output_type": "stream",
     "text": [
      "Train on 29 samples, validate on 8 samples\n",
      "Epoch 1/20\n",
      "29/29 [==============================] - 0s 15ms/step - loss: 1.5281 - accuracy: 0.4138 - val_loss: 1.5488 - val_accuracy: 0.6250\n",
      "Epoch 2/20\n",
      "29/29 [==============================] - 0s 379us/step - loss: 1.4942 - accuracy: 0.4483 - val_loss: 1.5212 - val_accuracy: 0.5000\n",
      "Epoch 3/20\n",
      "29/29 [==============================] - 0s 413us/step - loss: 1.4640 - accuracy: 0.4828 - val_loss: 1.4939 - val_accuracy: 0.5000\n",
      "Epoch 4/20\n",
      "29/29 [==============================] - 0s 412us/step - loss: 1.4364 - accuracy: 0.5172 - val_loss: 1.4691 - val_accuracy: 0.5000\n",
      "Epoch 5/20\n",
      "29/29 [==============================] - 0s 416us/step - loss: 1.4116 - accuracy: 0.5172 - val_loss: 1.4495 - val_accuracy: 0.5000\n",
      "Epoch 6/20\n",
      "29/29 [==============================] - 0s 377us/step - loss: 1.3921 - accuracy: 0.4828 - val_loss: 1.4339 - val_accuracy: 0.5000\n",
      "Epoch 7/20\n",
      "29/29 [==============================] - 0s 378us/step - loss: 1.3769 - accuracy: 0.5172 - val_loss: 1.4204 - val_accuracy: 0.5000\n",
      "Epoch 8/20\n",
      "29/29 [==============================] - 0s 411us/step - loss: 1.3639 - accuracy: 0.4828 - val_loss: 1.4078 - val_accuracy: 0.5000\n",
      "Epoch 9/20\n",
      "29/29 [==============================] - 0s 344us/step - loss: 1.3522 - accuracy: 0.5172 - val_loss: 1.3945 - val_accuracy: 0.5000\n",
      "Epoch 10/20\n",
      "29/29 [==============================] - 0s 345us/step - loss: 1.3410 - accuracy: 0.5172 - val_loss: 1.3799 - val_accuracy: 0.5000\n",
      "Epoch 11/20\n",
      "29/29 [==============================] - 0s 344us/step - loss: 1.3300 - accuracy: 0.5172 - val_loss: 1.3638 - val_accuracy: 0.5000\n",
      "Epoch 12/20\n",
      "29/29 [==============================] - 0s 310us/step - loss: 1.3190 - accuracy: 0.4828 - val_loss: 1.3471 - val_accuracy: 0.5000\n",
      "Epoch 13/20\n",
      "29/29 [==============================] - 0s 344us/step - loss: 1.3087 - accuracy: 0.4828 - val_loss: 1.3313 - val_accuracy: 0.5000\n",
      "Epoch 14/20\n",
      "29/29 [==============================] - 0s 310us/step - loss: 1.2998 - accuracy: 0.4828 - val_loss: 1.3171 - val_accuracy: 0.5000\n",
      "Epoch 15/20\n",
      "29/29 [==============================] - 0s 310us/step - loss: 1.2921 - accuracy: 0.4828 - val_loss: 1.3044 - val_accuracy: 0.5000\n",
      "Epoch 16/20\n",
      "29/29 [==============================] - 0s 310us/step - loss: 1.2851 - accuracy: 0.4828 - val_loss: 1.2928 - val_accuracy: 0.5000\n",
      "Epoch 17/20\n",
      "29/29 [==============================] - 0s 275us/step - loss: 1.2788 - accuracy: 0.4828 - val_loss: 1.2824 - val_accuracy: 0.5000\n",
      "Epoch 18/20\n",
      "29/29 [==============================] - 0s 311us/step - loss: 1.2732 - accuracy: 0.4828 - val_loss: 1.2741 - val_accuracy: 0.5000\n",
      "Epoch 19/20\n",
      "29/29 [==============================] - 0s 275us/step - loss: 1.2676 - accuracy: 0.4828 - val_loss: 1.2659 - val_accuracy: 0.5000\n",
      "Epoch 20/20\n",
      "29/29 [==============================] - 0s 310us/step - loss: 1.2619 - accuracy: 0.4828 - val_loss: 1.2573 - val_accuracy: 0.5000\n"
     ]
    },
    {
     "data": {
      "text/plain": [
       "<keras.callbacks.callbacks.History at 0x20df538be10>"
      ]
     },
     "execution_count": 28,
     "metadata": {},
     "output_type": "execute_result"
    }
   ],
   "source": [
    "model3.fit(X_in3, Y_in3, epochs = 20, shuffle=False,validation_data=(X_test3, Y_test3))"
   ]
  },
  {
   "cell_type": "code",
   "execution_count": 29,
   "metadata": {},
   "outputs": [
    {
     "name": "stdout",
     "output_type": "stream",
     "text": [
      "###############################\n",
      "The next topic for the \"USER Combined\" are in increasing decreasing order of preference  [[5 1 3 4 2]]\n",
      "###############################\n"
     ]
    }
   ],
   "source": [
    "print('###############################')\n",
    "print('The next topic for the \"USER Combined\" are in increasing decreasing order of preference ',np.argsort((-model3.predict(X3.values[28:28+window,:].reshape(1,window,X_in3.shape[2]))))+1)\n",
    "print('###############################')"
   ]
  },
  {
   "cell_type": "code",
   "execution_count": null,
   "metadata": {},
   "outputs": [],
   "source": []
  }
 ],
 "metadata": {
  "kernelspec": {
   "display_name": "Python 3",
   "language": "python",
   "name": "python3"
  },
  "language_info": {
   "codemirror_mode": {
    "name": "ipython",
    "version": 3
   },
   "file_extension": ".py",
   "mimetype": "text/x-python",
   "name": "python",
   "nbconvert_exporter": "python",
   "pygments_lexer": "ipython3",
   "version": "3.7.3"
  }
 },
 "nbformat": 4,
 "nbformat_minor": 2
}
