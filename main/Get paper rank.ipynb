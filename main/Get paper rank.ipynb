{
 "cells": [
  {
   "cell_type": "code",
   "execution_count": 3,
   "metadata": {},
   "outputs": [
    {
     "data": {
      "text/plain": [
       "CompletedProcess(args='python web_crawl.py base', returncode=0)"
      ]
     },
     "execution_count": 3,
     "metadata": {},
     "output_type": "execute_result"
    }
   ],
   "source": [
    "import subprocess\n",
    "query = \"base\"\n",
    "subprocess.run('python web_crawl.py '+query,shell=True)"
   ]
  },
  {
   "cell_type": "code",
   "execution_count": 12,
   "metadata": {},
   "outputs": [],
   "source": [
    "import pandas as pd\n",
    "df = pd.read_csv('data.csv')"
   ]
  },
  {
   "cell_type": "code",
   "execution_count": 10,
   "metadata": {},
   "outputs": [],
   "source": [
    "def mcda(df):\n",
    "    import numpy as np\n",
    "    feature = 4\n",
    "    m = len(df)\n",
    "    utility = np.zeros(m)\n",
    "    weight = np.zeros(feature)\n",
    "    maxm = [1000,1000,1000,1000]\n",
    "    '''\n",
    "    for i in range(m):\n",
    "        for j in range(feature):\n",
    "            maxm[j] = max(maxm[j],abs(df.values[j,5+j]))\n",
    "       ''' \n",
    "    total = 0\n",
    "    for i in range(feature):\n",
    "        for j in range(m):\n",
    "            r = df.values[j,5+i]\n",
    "            weight[i] += r * np.log(r/maxm[i] + 1.1) /maxm[i]\n",
    "        weight[i] += 1\n",
    "        total += weight[i]\n",
    "    for i in range(feature):\n",
    "        weight[i] = weight[i]/total\n",
    "    for i in range(m):\n",
    "        for j in range(feature):\n",
    "            utility[i] += weight[j]*df.values[i,5+j]/maxm[j]\n",
    "    tmp = np.argsort(utility)\n",
    "    res = []\n",
    "    for i in range(len(df)):\n",
    "        res.append(tmp[-i])\n",
    "    return res"
   ]
  },
  {
   "cell_type": "code",
   "execution_count": 11,
   "metadata": {},
   "outputs": [
    {
     "name": "stdout",
     "output_type": "stream",
     "text": [
      "0 .  Three-dimensional structure of myosin subfragment-1: a molecular motor \n",
      "     http://users.man.poznan.pl/wojtekr/pdf/wr-lit-05.pdf\n",
      "1 .  Fragile X mental retardation protein is necessary for neurotransmitter-activated protein translation at synapses \n",
      "     https://www.pnas.org/content/pnas/101/50/17504.full.pdf\n",
      "2 .  Comparison of different efficiency criteria for hydrological model assessment \n",
      "     https://hal.archives-ouvertes.fr/docs/00/29/68/42/PDF/adgeo-5-89-2005.pdf\n"
     ]
    },
    {
     "name": "stderr",
     "output_type": "stream",
     "text": [
      "c:\\users\\hp\\appdata\\local\\programs\\python\\python37\\lib\\site-packages\\ipykernel_launcher.py:17: RuntimeWarning: invalid value encountered in log\n"
     ]
    }
   ],
   "source": [
    "rank = mcda(df)\n",
    "\n",
    "for i in range(len(rank)):\n",
    "    print(i,'. ',df['Source title'][rank[i]], '\\n    ',df['Link'][rank[i]])"
   ]
  },
  {
   "cell_type": "code",
   "execution_count": null,
   "metadata": {},
   "outputs": [],
   "source": []
  },
  {
   "cell_type": "code",
   "execution_count": null,
   "metadata": {},
   "outputs": [],
   "source": []
  }
 ],
 "metadata": {
  "kernelspec": {
   "display_name": "Python 3",
   "language": "python",
   "name": "python3"
  },
  "language_info": {
   "codemirror_mode": {
    "name": "ipython",
    "version": 3
   },
   "file_extension": ".py",
   "mimetype": "text/x-python",
   "name": "python",
   "nbconvert_exporter": "python",
   "pygments_lexer": "ipython3",
   "version": "3.7.3"
  }
 },
 "nbformat": 4,
 "nbformat_minor": 2
}
